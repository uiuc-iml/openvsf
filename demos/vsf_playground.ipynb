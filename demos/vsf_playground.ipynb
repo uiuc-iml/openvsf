{
 "cells": [
  {
   "cell_type": "markdown",
   "metadata": {},
   "source": [
    "# Volumetric Stiffness Field Playground"
   ]
  },
  {
   "cell_type": "code",
   "execution_count": 1,
   "metadata": {},
   "outputs": [
    {
     "name": "stdout",
     "output_type": "stream",
     "text": [
      "Jupyter environment detected. Enabling Open3D WebVisualizer.\n",
      "[Open3D INFO] WebRTC GUI backend enabled.\n",
      "[Open3D INFO] WebRTCWindowSystem: HTTP handshake server disabled.\n",
      "***  klampt.vis: using Qt6 as the visualization backend  ***\n"
     ]
    }
   ],
   "source": [
    "# Auto reload modules\n",
    "%load_ext autoreload\n",
    "%autoreload 2\n",
    "\n",
    "#if you haven't installed vsf and just want to run this from the current directory, uncomment the following lines\n",
    "import sys\n",
    "sys.path.append('..')\n",
    "\n",
    "import numpy as np\n",
    "from vsf import vsf_from_file\n",
    "from klampt.io import open3d_convert\n",
    "from klampt import vis, Geometry3D, WorldModel\n",
    "from vsf.visualize.klampt_visualization import vsf_show\n",
    "\n",
    "vis.init('PyQt')  #needed to pop up Klampt OpenGL windows in Jupyter notebook\n",
    "None"
   ]
  },
  {
   "cell_type": "markdown",
   "metadata": {},
   "source": [
    "### Download the demo data from box\n",
    "\n",
    "    Demo data: https://uofi.box.com/s/31wozq63qgqvg8012r1jdfj5mdchmmfp\n",
    "\n",
    "<!-- + #### Download the full dataset\n",
    "    + Download objects assets: https://uofi.box.com/s/2wj11zze45nj2owwqdpm7tsh0keleedw\n",
    "    + Download estimates VSF models for simulation: https://uofi.box.com/s/g1i02pxf4quk0zt7nzv4qhovlhfnt3bl\n",
    "    + Download raw visual-tactile dataset: https://uofi.box.com/s/grqsjh5m27jkin14t097pvjvy9b1bk6r -->"
   ]
  },
  {
   "cell_type": "markdown",
   "metadata": {},
   "source": [
    "## Loading a VSF from file\n",
    "\n",
    "In this example we will load one of the demo objects.  Let's assume that you have placed `demo_data` in the parent directory of this Jupyter notebook."
   ]
  },
  {
   "cell_type": "code",
   "execution_count": null,
   "metadata": {},
   "outputs": [],
   "source": [
    "vsf_model = vsf_from_file('../demo_data/saved_vsfs/rubber_fig_tall_angle00/vsf.npz')\n",
    "print('Model loaded')"
   ]
  },
  {
   "cell_type": "markdown",
   "metadata": {},
   "source": [
    "Now we can visualize the loaded model.  We can do so in Open3D using a point cloud visualization, or in Klampt with a point cloud or implicit surface visualization."
   ]
  },
  {
   "cell_type": "code",
   "execution_count": null,
   "metadata": {},
   "outputs": [],
   "source": [
    "# Visualize VSF point cloud in Open3D\n",
    "import open3d as o3d\n",
    "from vsf.visualize.o3d_visualization import vsf_to_point_cloud\n",
    "vis_pcd = vsf_to_point_cloud(vsf_model)\n",
    "o3d.visualization.draw_geometries([vis_pcd], window_name='VSF vis_pcd')"
   ]
  },
  {
   "cell_type": "code",
   "execution_count": null,
   "metadata": {},
   "outputs": [],
   "source": [
    "# Klampt point cloud visualization of VSF\n",
    "from vsf.visualize.klampt_visualization import vsf_to_point_cloud\n",
    "k_pcd = Geometry3D(vsf_to_point_cloud(vsf_model))\n",
    "vis.debug(k_pcd)"
   ]
  },
  {
   "cell_type": "code",
   "execution_count": null,
   "metadata": {},
   "outputs": [],
   "source": [
    "# Klampt volumetric visualization of VSF\n",
    "stiffness_levels = [0.27072093, 4.54502328, 8.81932563, 9.09362797, 10.36793032]\n",
    "vsf_show(vsf_model, stiffness_levels)"
   ]
  },
  {
   "cell_type": "markdown",
   "metadata": {},
   "source": [
    "## VSF estimation from tactile data\n",
    "\n",
    "In this example, we will create VSF from a dataset that includes tactile observations.\n",
    "\n",
    "- Create an empty VSF.  We will use a VSFFactory to shape the VSF rest points from an RGBD point cloud\n",
    "- Configure the robot model and sensor(s).  In this case the robot is a Kinova Gen3, and there is only one sensor that provides joint torques.\n",
    "- Load a dataset of trials giving robot actions and observations from sensor(s) \n",
    "- Create an estimator, and run it in batch mode on the dataset.\n",
    "\n",
    "Let's start by creating an empty VSF.  If you have an RGB-D scanned object, you should use a `VSFRGBDCameraFactory` like the following code to construct the VSF points from a region of interest in the point cloud, extending through a volume behind the camera's point of view.  It doesn't really matter how you get the points; you can also create an empty box using the `vsf.vsf_from_box()` function, create a VSF from a 3D scanned mesh using `vsf.vsf_from_mesh()`, or load a previously saved VSF from disk."
   ]
  },
  {
   "cell_type": "code",
   "execution_count": null,
   "metadata": {},
   "outputs": [],
   "source": [
    "from vsf.core.vsf_factory import VSFRGBDCameraFactory, VSFRGBDCameraFactoryConfig, ViewConfig\n",
    "\n",
    "view = ViewConfig(origin=[-0.55639158,1.04689234,0.52593784])  # need to set the origin of the camera so that volume points can be created\n",
    "#we will select points within a bounding box \n",
    "config = VSFRGBDCameraFactoryConfig(features=['color'], voxel_size=0.02,\n",
    "                                    view = view, bbox = [[-1.03, -0.64, -0.22], [-0.29, 0.23, 0.73]], downsample_visual=True, verbose=True)\n",
    "factory = VSFRGBDCameraFactory(config)\n",
    "#process() does all the work\n",
    "vsf_empty = factory.process('../demo_data/datasets/rubber_fig_tall_angle00/object/bg_pcd.pcd')  #the PCD file is the point cloud of the RGBD scene, including the background \n",
    "print('{} rest points for VSF model created from RGBD factory'.format(len(vsf_empty.rest_points)))"
   ]
  },
  {
   "cell_type": "code",
   "execution_count": null,
   "metadata": {},
   "outputs": [],
   "source": [
    "# Show the processed VSF model\n",
    "from vsf.visualize.klampt_visualization import vsf_to_point_cloud\n",
    "vis.debug(empty_pc = vsf_to_point_cloud(vsf_empty, masked_view_fraction=1.0))"
   ]
  },
  {
   "cell_type": "markdown",
   "metadata": {},
   "source": [
    "Next, we create a world with a robot, a simulator, and one or more sensors.  This example loads a Kinova Gen3 robot model and uses the joint torque sensors in the simulator.  We also add the empty VSF into the simulator using `sim.add_deformable`.  This creates a body that can be moved through space.  (By default, all VSFs are considered to have a static pose, which works well if the object doesn't move much during interaction.  We will consider moving objects later.)"
   ]
  },
  {
   "cell_type": "code",
   "execution_count": null,
   "metadata": {},
   "outputs": [],
   "source": [
    "from vsf.sim import klamptWorldWrapper, QuasistaticVSFSimulator\n",
    "from vsf.sim.point_vsf_body import ContactParams\n",
    "from vsf.sensor.joint_torque_sensor import JointTorqueSensor\n",
    "\n",
    "#create a world\n",
    "world = klamptWorldWrapper()\n",
    "world.add_robot('kinova','../knowledge/robot_model/kinova_gen3.urdf')\n",
    "robot = world.world.robot(0)\n",
    "\n",
    "#this preprocessing needs to be done before running the simulator with a point VSF body\n",
    "world.setup_local_pcd_lst('open3d')\n",
    "world.setup_local_sdf_lst()\n",
    "\n",
    "#create a simulator with the world, a joint torque sensor, and the vsf body\n",
    "sensor = JointTorqueSensor('kinova_joint_torques','kinova',[robot.link(i).name for i in range(1,8)])\n",
    "sim = QuasistaticVSFSimulator(world, [sensor])\n",
    "vsf_body = sim.add_deformable('vsf',vsf_empty, contact_params=None)  #if you want to customize how the VSF is simulated, you can pass in a ContactParams object here"
   ]
  },
  {
   "cell_type": "code",
   "execution_count": null,
   "metadata": {},
   "outputs": [],
   "source": [
    "# show the world and VSF\n",
    "from vsf.visualize.klampt_visualization import vsf_to_point_cloud\n",
    "vis.debug(world=world.world, empty_pc = vsf_to_point_cloud(vsf_empty), origin = view.origin)"
   ]
  },
  {
   "cell_type": "markdown",
   "metadata": {},
   "source": [
    "Now we will set up a dataset. We will load a dataset from a standard folder format, which is configured and loaded automatically in the following example.  We will use a `DatasetConfig` which specifies which keys are present, and which keys used for robot commands and sensor observations.  The `dataset_from_config` function will set up a dataset appropriately to follow the specified configuration.  The standard dataset lazy-loads sequences into memory.\n",
    "\n",
    "More generally, a dataset is any object that can be treated like a list of sequences, and each sequence is a list of dictionaries mapping keys to numpy arrays.  In other words, datasets behave like a `List[List[Dict[str,np.ndarray]]]` type. If you don't want to go through the trouble of saving such a thing to disk, you can just create such an object yourself.  "
   ]
  },
  {
   "cell_type": "code",
   "execution_count": null,
   "metadata": {},
   "outputs": [],
   "source": [
    "from vsf.dataset.constructors import DatasetConfig, dataset_from_config\n",
    "\n",
    "keys = {'kinova_joint_torques':7,'kinova_state':7}  #describes the keys present in the dataset\n",
    "dataset_config = DatasetConfig(type='joint_torque_dataset', \n",
    "                               path='../demo_data/datasets/rubber_fig_tall_angle00/split1',\n",
    "                               keys=keys,\n",
    "                               sensor_keys={'kinova_joint_torques':'kinova_joint_torques'},\n",
    "                               control_keys={'kinova':'kinova_state'})\n",
    "dataset = dataset_from_config(dataset_config)\n",
    "print(\"Dataset has {} sequences\".format(len(dataset)))"
   ]
  },
  {
   "cell_type": "markdown",
   "metadata": {},
   "source": [
    "For debugging, let's just validate the trajectories coming from the dataset.  Here we'll show the first 5 trajectories."
   ]
  },
  {
   "cell_type": "code",
   "execution_count": null,
   "metadata": {},
   "outputs": [],
   "source": [
    "from klampt.model.trajectory import RobotTrajectory \n",
    "\n",
    "for seqno in range(len(dataset)):\n",
    "    #extract the sequence of commands\n",
    "    seq = dataset[seqno]\n",
    "    commands = []\n",
    "    for frame in range(len(seq)):\n",
    "        frame = seq[frame]\n",
    "        commands.append(frame['kinova_state'])\n",
    "\n",
    "    #convert to a RobotTrajectory and show it\n",
    "    configs = [robot.configFromDrivers(d) for d in commands]\n",
    "    traj = RobotTrajectory(robot,[i/len(configs) for i in range(len(configs))],configs)\n",
    "    vis.debug(robot, {'animation':traj}, 'empty_pc', vsf_to_point_cloud(vsf_empty))\n",
    "    if seqno >= 4: break"
   ]
  },
  {
   "cell_type": "markdown",
   "metadata": {},
   "source": [
    "We can also check the discrepancy between the observations and the predicted measurements for a random VSF stiffness.  Here, we're also introducing the notion of sensor calibration, which is usually necessary at the beginning of a trial to tare the values coming from the sensor.\n",
    "\n",
    "A `BaseSensor` can potentially handle its own calibration, but we find it's easier to separate how to calibrate the sensor from the sensor simulator itself.  Here we will generate a `BaseCalibrator` object that we will run at the beginning of each trial to calibrate the sensor.\n",
    "\n",
    "(There is a little bit of work here to convert the dataset keys to the control and sensor keys expected by the simulator, calibrator, and estimators. This boilerplate is used a lot...)"
   ]
  },
  {
   "cell_type": "code",
   "execution_count": null,
   "metadata": {},
   "outputs": [],
   "source": [
    "from vsf.sensor import TareCalibrator\n",
    "import numpy as np\n",
    "\n",
    "vsf_empty.stiffness.fill_(0.1)  #set a guessed stiffness of the VSF model\n",
    "calibrator = TareCalibrator()\n",
    "for seqno in range(len(dataset)):\n",
    "    #extract the sequence of controls and observations.  This is boilerplate\n",
    "    seq = dataset[seqno]\n",
    "    control_seq = []\n",
    "    sensor_seq = []\n",
    "    for frame in seq:\n",
    "        control_seq.append({k:frame[v] for k,v in dataset_config.control_keys.items()})\n",
    "        sensor_seq.append({k:frame[v] for k,v in dataset_config.sensor_keys.items()})\n",
    "        \n",
    "    #run the calibration\n",
    "    sim.reset()\n",
    "    n = calibrator.calibrate(sensor,sim,control_seq,sensor_seq)\n",
    "    #returns the # of samples used in calibration.  Technically should skip this number of frames for estimation\n",
    "    print(\"Sequence\",seqno,\"calibration:\",sensor.get_calibration())\n",
    "\n",
    "    #now, run the simulator and compare the predicted torques to the actual torques\n",
    "    dt = 0.1  # a guessed time step.  There's no time-dependent functionality in the quasistatic simulator, so this doesn't matter\n",
    "    diffs = []\n",
    "    for frameno in range(n,len(seq)):\n",
    "        sim.step(control_seq[frameno],dt)\n",
    "        pred = sim.measurements()['kinova_joint_torques']\n",
    "        actual = sensor_seq[frameno]['kinova_joint_torques']\n",
    "        assert len(pred) == len(actual)\n",
    "        diffs.append(pred-actual)\n",
    "    diffs = np.array(diffs)\n",
    "    print(\"Sequence\",seqno,\"joint torque RMSEs\",np.sqrt(np.mean(diffs**2,axis=0)))\n",
    "\n",
    "    if seqno >= 4: break\n"
   ]
  },
  {
   "cell_type": "markdown",
   "metadata": {},
   "source": [
    "Now, let's start the estimation process.  Let's start by using *batch* estimation, which uses all the items in the dataset to estimate the VSF stiffness parameters.  We have to provide a prior to the estimator to initialize its stiffness guess, and we will use a GaussianVSFPriorFactory which assigns an independent Gaussian distribution to each point's stiffness.\n",
    "\n",
    "We can also customize the configuration of the estimator, such as the optimization technique used, but let's not worry about this too much for now."
   ]
  },
  {
   "cell_type": "code",
   "execution_count": null,
   "metadata": {},
   "outputs": [],
   "source": [
    "from vsf.sensor import TareCalibrator\n",
    "from vsf.estimator.point_vsf_estimator import PointVSFEstimator, PointVSFEstimatorConfig\n",
    "from vsf.prior.prior_factory import GaussianVSFPriorFactory\n",
    "import time\n",
    "import copy\n",
    "vsf_est = vsf_empty\n",
    "vsf_empty = copy.deepcopy(vsf_est)  #save a copy of the uninitialized VSF for later\n",
    "\n",
    "#the second argument sets the prior estimate to a mean of 0.1 and a standard deviation of 1.0\n",
    "estimator = PointVSFEstimator(PointVSFEstimatorConfig(), GaussianVSFPriorFactory(0.1,1.0))\n",
    "\n",
    "t0 = time.time()\n",
    "estimator.batch_estimate(sim, vsf_est, [dataset[i] for i in range(5)], dataset_config, {sensor.name:TareCalibrator()})\n",
    "t1 = time.time()\n",
    "print(\"Estimation took time\",t1-t0)"
   ]
  },
  {
   "cell_type": "markdown",
   "metadata": {},
   "source": [
    "Now let's see some statistics about the estimates.  The VSF stiffness values are in the `stiffness` attribute, and it will also have new two features, 'K_std' and 'N_obs', which give the standard deviations of the estimates and the number of frames in which each point has been touched, respectively."
   ]
  },
  {
   "cell_type": "code",
   "execution_count": null,
   "metadata": {},
   "outputs": [],
   "source": [
    "print('Features:',list(vsf_est.features.keys()))\n",
    "stiffness = vsf_est.stiffness.cpu().numpy()\n",
    "N_obs = vsf_est.features['N_obs'].cpu().numpy()\n",
    "touched_mask = N_obs > 0\n",
    "print('Stiffness min {}, max {}, mean {}, std {}'.format(np.min(stiffness),np.max(stiffness),np.average(stiffness),np.std(stiffness)))\n",
    "print('Number of points touched {}/{}'.format(np.sum(N_obs > 0),stiffness.shape[0]))\n",
    "print('Touched stiffness min {}, max {}, mean {}, std {}'.format(np.min(stiffness[touched_mask]),np.max(stiffness[touched_mask]),np.average(stiffness[touched_mask]),np.std(stiffness[touched_mask])))\n"
   ]
  },
  {
   "cell_type": "markdown",
   "metadata": {},
   "source": [
    "Now let's visualize the estimates. For clearer visualization, we will set the stiffness of the untouched points to 0."
   ]
  },
  {
   "cell_type": "code",
   "execution_count": null,
   "metadata": {},
   "outputs": [],
   "source": [
    "vsf_est.stiffness[~touched_mask] = 0\n",
    "vis.debug(world=world.world, estimated_pc = vsf_to_point_cloud(vsf_est), origin = view.origin)"
   ]
  },
  {
   "cell_type": "markdown",
   "metadata": {},
   "source": [
    "Finally, let's check the accuracy of the predictions on the 5-sequence training set."
   ]
  },
  {
   "cell_type": "code",
   "execution_count": null,
   "metadata": {},
   "outputs": [],
   "source": [
    "for seqno in range(len(dataset)):\n",
    "    #extract the sequence of controls and observations.  This is boilerplate\n",
    "    seq = dataset[seqno]\n",
    "    control_seq = []\n",
    "    sensor_seq = []\n",
    "    for frame in seq:\n",
    "        control_seq.append({k:frame[v] for k,v in dataset_config.control_keys.items()})\n",
    "        sensor_seq.append({k:frame[v] for k,v in dataset_config.sensor_keys.items()})\n",
    "        \n",
    "    #run the calibration\n",
    "    sim.reset()\n",
    "    n = calibrator.calibrate(sensor,sim,control_seq,sensor_seq)\n",
    "\n",
    "    #now, run the simulator and compare the predicted torques to the actual torques\n",
    "    dt = 0.1  # a guessed time step.  There's no time-dependent functionality in the quasistatic simulator, so this doesn't matter\n",
    "    diffs = []\n",
    "    for frameno in range(n,len(seq)):\n",
    "        sim.step(control_seq[frameno],dt)\n",
    "        pred = sim.measurements()['kinova_joint_torques']\n",
    "        actual = sensor_seq[frameno]['kinova_joint_torques']\n",
    "        assert len(pred) == len(actual)\n",
    "        diffs.append(pred-actual)\n",
    "    diffs = np.array(diffs)\n",
    "    print(\"Sequence\",seqno,\"joint torque RMSEs\",np.sqrt(np.mean(diffs**2,axis=0)))\n",
    "\n",
    "    if seqno >= 4: break"
   ]
  },
  {
   "cell_type": "markdown",
   "metadata": {},
   "source": [
    "Since comparisons are done frequently, we also have standard functions for calculating these metrics."
   ]
  },
  {
   "cell_type": "code",
   "execution_count": null,
   "metadata": {},
   "outputs": [],
   "source": [
    "from vsf.sim.metrics import rmse_sensors\n",
    "calibrators = {'kinova_joint_torques':calibrator}\n",
    "rmses = rmse_sensors(sim,[dataset[i] for i in range(5)],dataset_config,calibrators)\n",
    "for i in range(5):\n",
    "    print(\"Sequence\",i,\"joint torque RMSEs\",rmses['kinova_joint_torques'][i])\n",
    "sim.vsf_objects['vsf'].vsf_model = vsf_empty\n",
    "print(\"Original RMSE train\",rmse_sensors(sim,[dataset[i] for i in range(5)],dataset_config,calibrators,aggregate_seqs=True,aggregate_channels=True)['kinova_joint_torques'])\n",
    "print(\"Original RMSE test\",rmse_sensors(sim,[dataset[i] for i in range(5,30)],dataset_config,calibrators,aggregate_seqs=True,aggregate_channels=True)['kinova_joint_torques'])\n",
    "sim.vsf_objects['vsf'].vsf_model = vsf_est\n",
    "print(\"Estimated RMSE train\",rmse_sensors(sim,[dataset[i] for i in range(5)],dataset_config,calibrators,aggregate_seqs=True,aggregate_channels=True)['kinova_joint_torques'])\n",
    "print(\"Estimated RMSE test\",rmse_sensors(sim,[dataset[i] for i in range(5,30)],dataset_config,calibrators,aggregate_seqs=True,aggregate_channels=True)['kinova_joint_torques'])"
   ]
  },
  {
   "cell_type": "markdown",
   "metadata": {},
   "source": [
    "Now we see that we've done a much better job of estimating the RMSEs on the training set but we haven't really improved the testing RMSEs very much.  This is because we've only used 5 sequences for training, and they may have not done a good job of covering the object.  This is a typical issue with using touch data alone.  Read on to the next section to explore better ways of extrapolating using vision features and priors. "
   ]
  },
  {
   "cell_type": "markdown",
   "metadata": {},
   "source": [
    "## Extrapolating VSF data by color"
   ]
  },
  {
   "cell_type": "markdown",
   "metadata": {},
   "source": [
    "This section provides a basic demonstration of learning a color-conditioned stiffness prior.\n",
    "We use a simple algorithm that naively regresses the estimated VSF stiffness using stochastic gradient descent.\n",
    "For more advanced and accurate prior learning, please refer to the Bayesian meta-learning function in estimator module."
   ]
  },
  {
   "cell_type": "code",
   "execution_count": null,
   "metadata": {},
   "outputs": [],
   "source": [
    "import torch\n",
    "from vsf.prior.conditional_distribution import LinearGaussianPriorConfig, LinearGaussianPrior\n",
    "from vsf.prior.prior_factory import LearnableVSFPriorFactory\n",
    "\n",
    "linear_gaussian_condig = LinearGaussianPriorConfig(c_dim=3, diag=True, non_neg=True)\n",
    "\n",
    "# setup a simple meta-prior using linear Gaussian with RGB as input features\n",
    "prior_factory = LearnableVSFPriorFactory(['color'], LinearGaussianPrior(linear_gaussian_condig))\n",
    "\n",
    "# TODO: point vsf does not have consistent dtype, need manually convert to float\n",
    "vsf_est.features['color'] = vsf_est.features['color'].float()\n",
    "\n",
    "prior_factory.meta_learn(vsfs=[vsf_est], features=[{'color':vsf_est.features['color'].float()}])"
   ]
  },
  {
   "cell_type": "code",
   "execution_count": null,
   "metadata": {},
   "outputs": [],
   "source": [
    "# Now create an estimator using the learned prior\n",
    "estimator = PointVSFEstimator(PointVSFEstimatorConfig(), prior_factory)\n",
    "\n",
    "t0 = time.time()\n",
    "estimator.batch_estimate(sim, vsf_est, [dataset[i] for i in range(5)], dataset_config, {sensor.name:TareCalibrator()})\n",
    "t1 = time.time()\n",
    "print(\"Estimation took time\",t1-t0)"
   ]
  },
  {
   "cell_type": "code",
   "execution_count": null,
   "metadata": {},
   "outputs": [],
   "source": [
    "# show results with color prior, we expect to see a larger high stiffness region \n",
    "vsf_show(vsf_est)"
   ]
  },
  {
   "cell_type": "markdown",
   "metadata": {},
   "source": [
    "## Estimating VSFs for bodies that move\n",
    "\n",
    "We need to load the brown_boot_moving object for estimating movable VSF."
   ]
  },
  {
   "cell_type": "code",
   "execution_count": 2,
   "metadata": {},
   "outputs": [],
   "source": [
    "from vsf import vsf_from_file\n",
    "moving_vsf_empty = vsf_from_file('../demo_data/saved_vsfs/brown_boot_moving/vsf_empty.npz')"
   ]
  },
  {
   "cell_type": "code",
   "execution_count": 3,
   "metadata": {},
   "outputs": [
    {
     "name": "stdout",
     "output_type": "stream",
     "text": [
      "Stiffness range:  0.0 0.0\n",
      "################################################################\n",
      "klampt.vis: Running multi-threaded dialog, waiting to complete...\n"
     ]
    },
    {
     "name": "stderr",
     "output_type": "stream",
     "text": [
      "WARNING: QApplication was not created in the main() thread.\n"
     ]
    },
    {
     "name": "stdout",
     "output_type": "stream",
     "text": [
      "vis: creating GL window\n",
      "######### QtGLWindow setProgram ###############\n",
      "######### QtGLWindow setProgram ###############\n",
      "#########################################\n",
      "klampt.vis: Dialog on window 1 starting\n",
      "#########################################\n",
      "######### QtGLWindow Initialize GL ###############\n",
      "QtGLWidget.initialize: no action menu?\n",
      "QtGLWindow.resizeGL: called when invisible?\n",
      "QtGLWindow.paintGL: called while invisible?\n",
      "#########################################\n",
      "klampt.vis: Dialog done on window 1 result 0\n",
      "#########################################\n",
      "klampt.vis: ... dialog done, leaving thread open\n",
      "################################################################\n"
     ]
    },
    {
     "name": "stdout",
     "output_type": "stream",
     "text": [
      "vis: creating GL window\n",
      "######### QtGLWindow setProgram ###############\n",
      "#########################################\n",
      "klampt.vis: Making window 0\n",
      "#########################################\n",
      "######### QtGLWindow Initialize GL ###############\n",
      "QtGLWindow.resizeGL: called when invisible?\n",
      "QtGLWindow.paintGL: called while invisible?\n",
      "#########################################\n",
      "klampt.vis: Window 0 close\n",
      "#########################################\n"
     ]
    }
   ],
   "source": [
    "# Show the processed VSF model\n",
    "from vsf.visualize.klampt_visualization import vsf_to_point_cloud\n",
    "vis.debug(empty_pc = vsf_to_point_cloud(moving_vsf_empty, masked_view_fraction=1.0))"
   ]
  },
  {
   "cell_type": "code",
   "execution_count": 4,
   "metadata": {},
   "outputs": [
    {
     "name": "stdout",
     "output_type": "stream",
     "text": [
      "WorldModel::LoadRobot: ../knowledge/robot_model/kinova_gen3.urdf\n",
      "URDFParser: Link size: 9\n",
      "URDFParser: Joint size: 9\n",
      "URDFParser: Done loading robot file ../knowledge/robot_model/kinova_gen3.urdf\n",
      "Warning: model EndEffector_Link type  is not triangle mesh\n",
      "FMM_Fill identifies 1305 surface, 731 interior, 2003 exterior cells\n",
      "FMM starting with 835 surface cells, grid of size 13 13 21\n",
      "FMM found 1151 interior and 2398 exterior cells\n",
      "Geometry: AnyGeometry::Convert: FMM grid bounding box -0.0648063 -0.0649216 -0.019575   0.0651937 0.0650784 0.190425\n",
      "FMM_Fill identifies 1076 surface, 539 interior, 1737 exterior cells\n",
      "FMM starting with 684 surface cells, grid of size 13 13 21\n",
      "FMM found 867 interior and 2682 exterior cells\n",
      "Geometry: AnyGeometry::Convert: FMM grid bounding box -0.065 -0.0662972 -0.193375   0.065 0.0637028 0.016625\n",
      "FMM_Fill identifies 1503 surface, 788 interior, 2376 exterior cells\n",
      "FMM starting with 829 surface cells, grid of size 13 31 13\n",
      "FMM found 1113 interior and 4126 exterior cells\n",
      "Geometry: AnyGeometry::Convert: FMM grid bounding box -0.065 -0.2444 -0.0728769   0.065 0.0656 0.0571231\n",
      "TriMeshTopology: mesh has 7 triangles with duplicate neighbors!\n",
      "  Triangle range 2410 to 2722\n",
      "  May see strange results for some triangle mesh operations\n",
      "TriMeshTopology: mesh has 7 triangles with duplicate neighbors!\n",
      "  Triangle range 2410 to 2722\n",
      "  May see strange results for some triangle mesh operations\n",
      "FMM_Fill identifies 1358 surface, 699 interior, 2167 exterior cells\n",
      "FMM starting with 781 surface cells, grid of size 13 13 28\n",
      "FMM found 1077 interior and 3655 exterior cells\n",
      "Geometry: AnyGeometry::Convert: FMM grid bounding box -0.065 -0.0665021 -0.275775   0.065 0.0634979 0.00422499\n",
      "TriMeshTopology: mesh has 22 triangles with duplicate neighbors!\n",
      "  Triangle range 1990 to 3298\n",
      "  May see strange results for some triangle mesh operations\n",
      "TriMeshTopology: mesh has 22 triangles with duplicate neighbors!\n",
      "  Triangle range 1990 to 3298\n",
      "  May see strange results for some triangle mesh operations\n",
      "FMM_Fill identifies 1122 surface, 526 interior, 1868 exterior cells\n",
      "FMM starting with 686 surface cells, grid of size 13 30 12\n",
      "FMM found 821 interior and 3859 exterior cells\n",
      "Geometry: AnyGeometry::Convert: FMM grid bounding box -0.065 -0.23745 -0.0736478   0.065 0.06255 0.0463522\n",
      "FMM_Fill identifies 522 surface, 210 interior, 930 exterior cells\n",
      "FMM starting with 472 surface cells, grid of size 10 12 17\n",
      "FMM found 442 interior and 1598 exterior cells\n",
      "Geometry: AnyGeometry::Convert: FMM grid bounding box -0.0499992 -0.0690232 -0.156752   0.0500008 0.0509768 0.0132482\n",
      "TriMeshTopology: mesh has 18 triangles with duplicate neighbors!\n",
      "  Triangle range 4061 to 4257\n",
      "  May see strange results for some triangle mesh operations\n",
      "TriMeshTopology: mesh has 18 triangles with duplicate neighbors!\n",
      "  Triangle range 4061 to 4257\n",
      "  May see strange results for some triangle mesh operations\n",
      "FMM_Fill identifies 510 surface, 190 interior, 932 exterior cells\n",
      "FMM starting with 484 surface cells, grid of size 10 19 12\n",
      "FMM found 396 interior and 1884 exterior cells\n",
      "Geometry: AnyGeometry::Convert: FMM grid bounding box -0.05 -0.136661 -0.0692511   0.05 0.0533391 0.0507489\n",
      "FMM_Fill identifies 290 surface, 100 interior, 548 exterior cells\n",
      "FMM starting with 317 surface cells, grid of size 11 11 10\n",
      "FMM found 254 interior and 956 exterior cells\n",
      "Geometry: AnyGeometry::Convert: FMM grid bounding box -0.0550454 -0.055 -0.0834625   0.0549546 0.055 0.0165375\n",
      "FMM_Fill identifies 195 surface, 43 interior, 409 exterior cells\n",
      "FMM starting with 217 surface cells, grid of size 15 11 7\n",
      "FMM found 139 interior and 1016 exterior cells\n",
      "Geometry: AnyGeometry::Convert: FMM grid bounding box -0.0317984 -0.055 0.030495   0.118202 0.055 0.100495\n"
     ]
    }
   ],
   "source": [
    "from vsf.sim import klamptWorldWrapper, QuasistaticVSFSimulator\n",
    "from vsf.sim.point_vsf_body import ContactParams\n",
    "from vsf.sensor.punyo_dense_force_sensor import PunyoDenseForceSensor\n",
    "\n",
    "# create a new world\n",
    "world = klamptWorldWrapper()\n",
    "world.add_robot('kinova','../knowledge/robot_model/kinova_gen3.urdf')\n",
    "robot = world.world.robot(0)\n",
    "\n",
    "# the punyo geometry is added to the end effector link of the robot\n",
    "world.add_geometry_from_file('punyo', '../knowledge/robot_model/punyo_mesh_complete.ply', \n",
    "                             geom_type='deformable', parent_name='EndEffector_Link', \n",
    "                             parent_relative_transform=np.array([[0.0, -1.0, 0.0, 0.0], [0.34202014, 0.0, -0.93969262, 0.02111], \n",
    "                                                                 [0.93969262, 0.0, 0.34202014, 0.096142], [0.0, 0.0, 0.0, 1.0]]))\n",
    "\n",
    "# this preprocessing needs to be done before running the simulator with a point VSF body\n",
    "world.setup_local_pcd_lst('open3d')\n",
    "world.setup_local_sdf_lst()\n",
    "\n",
    "# initialize all sensors to add in the simulator\n",
    "dense_force_sensor = PunyoDenseForceSensor('punyo_force','punyo')\n",
    "\n",
    "# create a simulator with the world, a joint torque sensor, and the vsf body\n",
    "moving_sim = QuasistaticVSFSimulator(world, [dense_force_sensor])\n",
    "vsf_body = moving_sim.add_deformable('vsf', moving_vsf_empty, contact_params=None)  #if you want to customize how the VSF is simulated, you can pass in a ContactParams object here"
   ]
  },
  {
   "cell_type": "markdown",
   "metadata": {},
   "source": [
    "Setup the dataset with moving object"
   ]
  },
  {
   "cell_type": "code",
   "execution_count": 5,
   "metadata": {},
   "outputs": [
    {
     "name": "stdout",
     "output_type": "stream",
     "text": [
      "Dataset has 90 sequences\n"
     ]
    }
   ],
   "source": [
    "from vsf.dataset.constructors import DatasetConfig, dataset_from_config\n",
    "\n",
    "keys = {'kinova_state': 7, \n",
    "        'punyo_state': [[390, 3], np.ndarray], \n",
    "        'punyo_force': [[390, 3], np.ndarray], \n",
    "        'vsf_state': [[4, 4], np.ndarray]}  # vsf_state is rigid transformation of VSF object\n",
    "dataset_config = DatasetConfig(type='moving_dataset', \n",
    "                               path='../demo_data/datasets/brown_boot_moving', keys=keys)\n",
    "dataset = dataset_from_config(dataset_config)\n",
    "print(\"Dataset has {} sequences\".format(len(dataset)))"
   ]
  },
  {
   "cell_type": "markdown",
   "metadata": {},
   "source": [
    "Run point VSF estimation on moving object. Since we use the Punyo dense force sensor, the estimation time is expected longer."
   ]
  },
  {
   "cell_type": "code",
   "execution_count": 6,
   "metadata": {},
   "outputs": [
    {
     "name": "stdout",
     "output_type": "stream",
     "text": [
      "Loading sequence ../demo_data/datasets/brown_boot_moving/seq_000\n",
      "Loading sequence ../demo_data/datasets/brown_boot_moving/seq_001\n",
      "Loading sequence ../demo_data/datasets/brown_boot_moving/seq_002\n",
      "Loading sequence ../demo_data/datasets/brown_boot_moving/seq_003\n",
      "Loading sequence ../demo_data/datasets/brown_boot_moving/seq_004\n",
      "Generating simulation cache\n",
      "Number of observations: 5\n",
      "Observed indices: 40079\n",
      "QuadProgOptimizer: start solving cvxpy problem...\n",
      "QuadProgOptimizer: cvxpy solve time = 144.79318618774414\n",
      "Estimation took time 193.62956285476685\n"
     ]
    }
   ],
   "source": [
    "from vsf.sensor import TareCalibrator\n",
    "from vsf.estimator.point_vsf_estimator import PointVSFEstimator, PointVSFEstimatorConfig\n",
    "from vsf.prior.prior_factory import GaussianVSFPriorFactory\n",
    "import time\n",
    "import copy\n",
    "moving_vsf_est = moving_vsf_empty\n",
    "moving_vsf_empty = copy.deepcopy(moving_vsf_est)  #save a copy of the uninitialized VSF for later\n",
    "\n",
    "#the second argument sets the prior estimate to a mean of 0.5 and a standard deviation of 1.0\n",
    "estimator = PointVSFEstimator(PointVSFEstimatorConfig(), GaussianVSFPriorFactory(0.0,1.0))\n",
    "\n",
    "t0 = time.time()\n",
    "estimator.batch_estimate(moving_sim, moving_vsf_est, [dataset[i] for i in range(5)], dataset_config)\n",
    "t1 = time.time()\n",
    "print(\"Estimation took time\",t1-t0)"
   ]
  },
  {
   "cell_type": "code",
   "execution_count": 7,
   "metadata": {},
   "outputs": [
    {
     "name": "stdout",
     "output_type": "stream",
     "text": [
      "Setting voxel grid resolution 0.0019416289327088357\n",
      "vsf_show: Using the following stiffness values: [2.6494479353489364e-12, 0.0014182167360559106, 0.002836433472111821, 0.004254650324583054, 0.005672866944223642]\n",
      "klampt.vis: auto-fitting camera to scene.\n"
     ]
    },
    {
     "name": "stderr",
     "output_type": "stream",
     "text": [
      "Unrecognized OpenGL version\n",
      "Unrecognized OpenGL version\n"
     ]
    }
   ],
   "source": [
    "# visualize estimated vsf\n",
    "vsf_show(moving_vsf_est)"
   ]
  },
  {
   "cell_type": "markdown",
   "metadata": {},
   "source": [
    "## Multi-sensor estimation\n",
    "\n",
    "The estimation techniques above can work for any number of sensors.  Simply create more sensors to add to the simulator, and set up the observations dictionary to the estimator appropriately.    "
   ]
  },
  {
   "cell_type": "code",
   "execution_count": 2,
   "metadata": {},
   "outputs": [],
   "source": [
    "from vsf import vsf_from_file\n",
    "shoe_vsf_empty = vsf_from_file('../demo_data/saved_vsfs/white_nike_fixed/vsf_empty.npz')"
   ]
  },
  {
   "cell_type": "code",
   "execution_count": null,
   "metadata": {},
   "outputs": [
    {
     "name": "stdout",
     "output_type": "stream",
     "text": [
      "Stiffness range:  0.0 0.0\n",
      "################################################################\n",
      "klampt.vis: Running multi-threaded dialog, waiting to complete...\n"
     ]
    },
    {
     "name": "stderr",
     "output_type": "stream",
     "text": [
      "WARNING: QApplication was not created in the main() thread.\n"
     ]
    },
    {
     "name": "stdout",
     "output_type": "stream",
     "text": [
      "vis: creating GL window\n",
      "######### QtGLWindow setProgram ###############\n",
      "######### QtGLWindow setProgram ###############\n",
      "#########################################\n",
      "klampt.vis: Dialog on window 1 starting\n",
      "#########################################\n",
      "######### QtGLWindow Initialize GL ###############\n",
      "QtGLWidget.initialize: no action menu?\n",
      "QtGLWindow.resizeGL: called when invisible?\n",
      "QtGLWindow.paintGL: called while invisible?\n",
      "#########################################\n",
      "klampt.vis: Dialog done on window 1 result 0\n",
      "#########################################\n",
      "klampt.vis: ... dialog done, leaving thread open\n",
      "################################################################\n"
     ]
    },
    {
     "name": "stdout",
     "output_type": "stream",
     "text": [
      "vis: creating GL window\n",
      "######### QtGLWindow setProgram ###############\n",
      "#########################################\n",
      "klampt.vis: Making window 0\n",
      "#########################################\n",
      "######### QtGLWindow Initialize GL ###############\n",
      "QtGLWindow.resizeGL: called when invisible?\n",
      "QtGLWindow.paintGL: called while invisible?\n",
      "#########################################\n",
      "klampt.vis: Window 0 close\n",
      "#########################################\n",
      "vis: creating GL window\n",
      "######### QtGLWindow setProgram ###############\n",
      "######### QtGLWindow setProgram ###############\n",
      "#########################################\n",
      "klampt.vis: Dialog on window 2 starting\n",
      "#########################################\n",
      "######### QtGLWindow Initialize GL ###############\n",
      "QtGLWidget.initialize: no action menu?\n",
      "QtGLWindow.resizeGL: called when invisible?\n",
      "QtGLWindow.paintGL: called while invisible?\n",
      "#########################################\n",
      "klampt.vis: Dialog done on window 2 result 0\n",
      "#########################################\n"
     ]
    }
   ],
   "source": [
    "# Show the processed VSF model\n",
    "from vsf.visualize.klampt_visualization import vsf_to_point_cloud\n",
    "vis.debug(empty_pc = vsf_to_point_cloud(shoe_vsf_empty, masked_view_fraction=1.0))"
   ]
  },
  {
   "cell_type": "code",
   "execution_count": 4,
   "metadata": {},
   "outputs": [
    {
     "name": "stdout",
     "output_type": "stream",
     "text": [
      "WorldModel::LoadRobot: ../knowledge/robot_model/kinova_gen3.urdf\n",
      "URDFParser: Link size: 9\n",
      "URDFParser: Joint size: 9\n",
      "URDFParser: Done loading robot file ../knowledge/robot_model/kinova_gen3.urdf\n",
      "Warning: model EndEffector_Link type  is not triangle mesh\n",
      "FMM_Fill identifies 1305 surface, 731 interior, 2003 exterior cells\n",
      "FMM starting with 835 surface cells, grid of size 13 13 21\n",
      "FMM found 1151 interior and 2398 exterior cells\n",
      "Geometry: AnyGeometry::Convert: FMM grid bounding box -0.0648063 -0.0649216 -0.019575   0.0651937 0.0650784 0.190425\n",
      "FMM_Fill identifies 1076 surface, 539 interior, 1737 exterior cells\n",
      "FMM starting with 684 surface cells, grid of size 13 13 21\n",
      "FMM found 867 interior and 2682 exterior cells\n",
      "Geometry: AnyGeometry::Convert: FMM grid bounding box -0.065 -0.0662972 -0.193375   0.065 0.0637028 0.016625\n",
      "FMM_Fill identifies 1503 surface, 788 interior, 2376 exterior cells\n",
      "FMM starting with 829 surface cells, grid of size 13 31 13\n",
      "FMM found 1113 interior and 4126 exterior cells\n",
      "Geometry: AnyGeometry::Convert: FMM grid bounding box -0.065 -0.2444 -0.0728769   0.065 0.0656 0.0571231\n",
      "TriMeshTopology: mesh has 7 triangles with duplicate neighbors!\n",
      "  Triangle range 2410 to 2722\n",
      "  May see strange results for some triangle mesh operations\n",
      "TriMeshTopology: mesh has 7 triangles with duplicate neighbors!\n",
      "  Triangle range 2410 to 2722\n",
      "  May see strange results for some triangle mesh operations\n",
      "FMM_Fill identifies 1358 surface, 699 interior, 2167 exterior cells\n",
      "FMM starting with 781 surface cells, grid of size 13 13 28\n",
      "FMM found 1077 interior and 3655 exterior cells\n",
      "Geometry: AnyGeometry::Convert: FMM grid bounding box -0.065 -0.0665021 -0.275775   0.065 0.0634979 0.00422499\n",
      "TriMeshTopology: mesh has 22 triangles with duplicate neighbors!\n",
      "  Triangle range 1990 to 3298\n",
      "  May see strange results for some triangle mesh operations\n",
      "TriMeshTopology: mesh has 22 triangles with duplicate neighbors!\n",
      "  Triangle range 1990 to 3298\n",
      "  May see strange results for some triangle mesh operations\n",
      "FMM_Fill identifies 1122 surface, 526 interior, 1868 exterior cells\n",
      "FMM starting with 686 surface cells, grid of size 13 30 12\n",
      "FMM found 821 interior and 3859 exterior cells\n",
      "Geometry: AnyGeometry::Convert: FMM grid bounding box -0.065 -0.23745 -0.0736478   0.065 0.06255 0.0463522\n",
      "FMM_Fill identifies 522 surface, 210 interior, 930 exterior cells\n",
      "FMM starting with 472 surface cells, grid of size 10 12 17\n",
      "FMM found 442 interior and 1598 exterior cells\n",
      "Geometry: AnyGeometry::Convert: FMM grid bounding box -0.0499992 -0.0690232 -0.156752   0.0500008 0.0509768 0.0132482\n",
      "TriMeshTopology: mesh has 18 triangles with duplicate neighbors!\n",
      "  Triangle range 4061 to 4257\n",
      "  May see strange results for some triangle mesh operations\n",
      "TriMeshTopology: mesh has 18 triangles with duplicate neighbors!\n",
      "  Triangle range 4061 to 4257\n",
      "  May see strange results for some triangle mesh operations\n",
      "FMM_Fill identifies 510 surface, 190 interior, 932 exterior cells\n",
      "FMM starting with 484 surface cells, grid of size 10 19 12\n",
      "FMM found 396 interior and 1884 exterior cells\n",
      "Geometry: AnyGeometry::Convert: FMM grid bounding box -0.05 -0.136661 -0.0692511   0.05 0.0533391 0.0507489\n",
      "FMM_Fill identifies 290 surface, 100 interior, 548 exterior cells\n",
      "FMM starting with 317 surface cells, grid of size 11 11 10\n",
      "FMM found 254 interior and 956 exterior cells\n",
      "Geometry: AnyGeometry::Convert: FMM grid bounding box -0.0550454 -0.055 -0.0834625   0.0549546 0.055 0.0165375\n",
      "FMM_Fill identifies 195 surface, 43 interior, 409 exterior cells\n",
      "FMM starting with 217 surface cells, grid of size 15 11 7\n",
      "FMM found 139 interior and 1016 exterior cells\n",
      "Geometry: AnyGeometry::Convert: FMM grid bounding box -0.0317984 -0.055 0.030495   0.118202 0.055 0.100495\n"
     ]
    }
   ],
   "source": [
    "from vsf.sim import klamptWorldWrapper, QuasistaticVSFSimulator\n",
    "from vsf.sim.point_vsf_body import ContactParams\n",
    "from vsf.sensor.joint_torque_sensor import JointTorqueSensor\n",
    "from vsf.sensor.punyo_pressure_sensor import PunyoPressureSensor\n",
    "\n",
    "# create a new world\n",
    "world = klamptWorldWrapper()\n",
    "world.add_robot('kinova','../knowledge/robot_model/kinova_gen3.urdf')\n",
    "robot = world.world.robot(0)\n",
    "\n",
    "# the punyo geometry is added to the end effector link of the robot\n",
    "world.add_geometry_from_file('punyo', '../knowledge/robot_model/punyo_mesh_complete.ply', \n",
    "                             geom_type='deformable', parent_name='EndEffector_Link', \n",
    "                             parent_relative_transform=np.array([[0.0, -1.0, 0.0, 0.0], \n",
    "                                                                 [-0.05582150, 0.0, -0.9984407, 0.02111], \n",
    "                                                                 [0.99844076, 0.0, -0.0558215, 0.096142], \n",
    "                                                                 [0.0, 0.0, 0.0, 1.0]]))\n",
    "\n",
    "# this preprocessing needs to be done before running the simulator with a point VSF body\n",
    "world.setup_local_pcd_lst('open3d')\n",
    "world.setup_local_sdf_lst()\n",
    "\n",
    "# initialize all sensors to add in the simulator\n",
    "joint_torque_sensor = JointTorqueSensor('kinova_joint_torques','kinova',[robot.link(i).name for i in range(1,8)])\n",
    "pressure_sensor = PunyoPressureSensor('punyo_pressure','punyo')\n",
    "\n",
    "# create a simulator with the world, a joint torque sensor, and the vsf body\n",
    "shoe_sim = QuasistaticVSFSimulator(world, [joint_torque_sensor, pressure_sensor])\n",
    "vsf_body = shoe_sim.add_deformable('vsf', shoe_vsf_empty, contact_params=None)  #if you want to customize how the VSF is simulated, you can pass in a ContactParams object here"
   ]
  },
  {
   "cell_type": "markdown",
   "metadata": {},
   "source": [
    "Setup the dataset for multiple sensors."
   ]
  },
  {
   "cell_type": "code",
   "execution_count": 5,
   "metadata": {},
   "outputs": [
    {
     "name": "stdout",
     "output_type": "stream",
     "text": [
      "Dataset has 181 sequences\n"
     ]
    }
   ],
   "source": [
    "from vsf.dataset.constructors import DatasetConfig, dataset_from_config\n",
    "\n",
    "keys = {'kinova_joint_torques': 7, 'kinova_state': 7, 'punyo_pressure': 1}  #describes the keys present in the dataset\n",
    "dataset_config = DatasetConfig(type='multi_sensor_dataset', \n",
    "                               path='../demo_data/datasets/white_nike_fixed', keys=keys)\n",
    "dataset = dataset_from_config(dataset_config)\n",
    "print(\"Dataset has {} sequences\".format(len(dataset)))"
   ]
  },
  {
   "cell_type": "code",
   "execution_count": 6,
   "metadata": {},
   "outputs": [
    {
     "name": "stdout",
     "output_type": "stream",
     "text": [
      "Loading sequence ../demo_data/datasets/white_nike_fixed/seq_000\n",
      "Loading sequence ../demo_data/datasets/white_nike_fixed/seq_001\n",
      "Loading sequence ../demo_data/datasets/white_nike_fixed/seq_002\n",
      "Loading sequence ../demo_data/datasets/white_nike_fixed/seq_003\n",
      "Loading sequence ../demo_data/datasets/white_nike_fixed/seq_004\n",
      "Generating simulation cache\n"
     ]
    },
    {
     "name": "stderr",
     "output_type": "stream",
     "text": [
      "/home/motion/openvsf/demos/../vsf/sensor/base_calibrator.py:78: UserWarning: Contact happens at the first sample, please check the command sequence\n",
      "  warnings.warn('Contact happens at the first sample, please check the command sequence')\n"
     ]
    },
    {
     "name": "stdout",
     "output_type": "stream",
     "text": [
      "Number of observations: 5\n",
      "Observed indices: 1939\n",
      "QuadProgOptimizer: start solving cvxpy problem...\n",
      "QuadProgOptimizer: cvxpy solve time = 0.3820312023162842\n",
      "Estimation took time 0.8587646484375\n"
     ]
    }
   ],
   "source": [
    "from vsf.sensor import TareCalibrator\n",
    "from vsf.estimator.point_vsf_estimator import PointVSFEstimator, PointVSFEstimatorConfig\n",
    "from vsf.prior.prior_factory import GaussianVSFPriorFactory\n",
    "import time\n",
    "import copy\n",
    "shoe_vsf_est = shoe_vsf_empty\n",
    "shoe_vsf_empty = copy.deepcopy(shoe_vsf_est)  #save a copy of the uninitialized VSF for later\n",
    "\n",
    "#the second argument sets the prior estimate to a mean of 0.5 and a standard deviation of 1.0\n",
    "estimator = PointVSFEstimator(PointVSFEstimatorConfig(), GaussianVSFPriorFactory(0.0,1.0))\n",
    "\n",
    "calibrators = {'kinova_joint_torques':TareCalibrator(), 'punyo_pressure':TareCalibrator()}\n",
    "\n",
    "t0 = time.time()\n",
    "estimator.batch_estimate(shoe_sim, shoe_vsf_est, [dataset[i] for i in range(5)], dataset_config, calibrators)\n",
    "t1 = time.time()\n",
    "print(\"Estimation took time\",t1-t0)"
   ]
  },
  {
   "cell_type": "code",
   "execution_count": 7,
   "metadata": {},
   "outputs": [
    {
     "name": "stdout",
     "output_type": "stream",
     "text": [
      "Setting voxel grid resolution 0.008660254037844345\n",
      "vsf_show: Using the following stiffness values: [2.05728468927191e-07, 0.05471273139119148, 0.10942526161670685, 0.16413778066635132, 0.21885031461715698]\n",
      "klampt.vis: auto-fitting camera to scene.\n"
     ]
    },
    {
     "name": "stderr",
     "output_type": "stream",
     "text": [
      "Unrecognized OpenGL version\n",
      "Unrecognized OpenGL version\n"
     ]
    }
   ],
   "source": [
    "# visualize estimated vsf\n",
    "vsf_show(shoe_vsf_est)"
   ]
  },
  {
   "cell_type": "code",
   "execution_count": 9,
   "metadata": {},
   "outputs": [
    {
     "name": "stderr",
     "output_type": "stream",
     "text": [
      "/home/motion/openvsf/demos/../vsf/sensor/base_calibrator.py:78: UserWarning: Contact happens at the first sample, please check the command sequence\n",
      "  warnings.warn('Contact happens at the first sample, please check the command sequence')\n",
      "/tmp/ipykernel_535345/631405553.py:23: DeprecationWarning: __array_wrap__ must accept context and return_scalar arguments (positionally) in the future. (Deprecated NumPy 2.0)\n",
      "  joint_torque_diffs.append(joint_torque_pred-joint_torque_actual)\n",
      "/tmp/ipykernel_535345/631405553.py:28: DeprecationWarning: __array_wrap__ must accept context and return_scalar arguments (positionally) in the future. (Deprecated NumPy 2.0)\n",
      "  punyo_pressure_diffs.append(punyo_pressure_pred-punyo_pressure_actual)\n"
     ]
    },
    {
     "name": "stdout",
     "output_type": "stream",
     "text": [
      "Sequence 0 joint torque RMSEs [3.38299917 4.10381759 2.24333016 4.73418243 0.42585634 2.76030298\n",
      " 0.24903376]\n",
      "Sequence 0 punyo pressure RMSEs [0.48944667]\n",
      "Sequence 1 joint torque RMSEs [2.5188111  4.03694494 2.69195095 2.39329193 0.17609377 2.22228504\n",
      " 0.18011346]\n",
      "Sequence 1 punyo pressure RMSEs [0.38843873]\n",
      "Sequence 2 joint torque RMSEs [2.45111927 4.85118778 1.20088361 5.96571212 0.20308004 2.94272546\n",
      " 0.40444197]\n",
      "Sequence 2 punyo pressure RMSEs [0.34885589]\n",
      "Sequence 3 joint torque RMSEs [1.44332113 4.55244675 0.10052913 3.69278201 0.15918021 2.63158238\n",
      " 0.17473143]\n",
      "Sequence 3 punyo pressure RMSEs [0.3691069]\n",
      "Sequence 4 joint torque RMSEs [ 3.53635645  5.50165009  1.36797794 10.725968    0.47142986  4.44815498\n",
      "  0.36708171]\n",
      "Sequence 4 punyo pressure RMSEs [0.84524727]\n"
     ]
    }
   ],
   "source": [
    "from vsf.utils.data_utils import remap_dict_in_seq\n",
    "\n",
    "for seqno in range(len(dataset)):\n",
    "    #extract the sequence of controls and observations.  This is boilerplate\n",
    "    seq = dataset[seqno]\n",
    "    \n",
    "    control_seq, sensor_seq = remap_dict_in_seq(seq, shoe_sim.get_control_keys(), shoe_sim.get_sensor_keys())\n",
    "        \n",
    "    #run the calibration\n",
    "    shoe_sim.reset()\n",
    "    n = max(calibrators['kinova_joint_torques'].calibrate(joint_torque_sensor,shoe_sim,control_seq,sensor_seq), \n",
    "            calibrators['punyo_pressure'].calibrate(pressure_sensor,shoe_sim,control_seq,sensor_seq))\n",
    "\n",
    "    #now, run the simulator and compare the predicted torques to the actual torques\n",
    "    dt = 0.1  # a guessed time step.  There's no time-dependent functionality in the quasistatic simulator, so this doesn't matter\n",
    "    joint_torque_diffs = []\n",
    "    punyo_pressure_diffs = []\n",
    "    for frameno in range(n,len(seq)):\n",
    "        shoe_sim.step(control_seq[frameno],dt)\n",
    "        joint_torque_pred = shoe_sim.measurements()['kinova_joint_torques']\n",
    "        joint_torque_actual = sensor_seq[frameno]['kinova_joint_torques']\n",
    "        assert len(joint_torque_pred) == len(joint_torque_actual)\n",
    "        joint_torque_diffs.append(joint_torque_pred-joint_torque_actual)\n",
    "        \n",
    "        punyo_pressure_pred = shoe_sim.measurements()['punyo_pressure']\n",
    "        punyo_pressure_actual = sensor_seq[frameno]['punyo_pressure']\n",
    "        assert len(punyo_pressure_pred) == len(punyo_pressure_actual)\n",
    "        punyo_pressure_diffs.append(punyo_pressure_pred-punyo_pressure_actual)\n",
    "\n",
    "    joint_torque_diffs = np.array(joint_torque_diffs)\n",
    "    print(\"Sequence\",seqno,\"joint torque RMSEs\",np.sqrt(np.mean(joint_torque_diffs**2,axis=0)))\n",
    "    \n",
    "    punyo_pressure_diffs = np.array(punyo_pressure_diffs)\n",
    "    print(\"Sequence\",seqno,\"punyo pressure RMSEs\",np.sqrt(np.mean(punyo_pressure_diffs**2,axis=0)))\n",
    "\n",
    "    if seqno >= 4: break"
   ]
  }
 ],
 "metadata": {
  "kernelspec": {
   "display_name": "vsf",
   "language": "python",
   "name": "python3"
  },
  "language_info": {
   "codemirror_mode": {
    "name": "ipython",
    "version": 3
   },
   "file_extension": ".py",
   "mimetype": "text/x-python",
   "name": "python",
   "nbconvert_exporter": "python",
   "pygments_lexer": "ipython3",
   "version": "3.10.16"
  }
 },
 "nbformat": 4,
 "nbformat_minor": 4
}
